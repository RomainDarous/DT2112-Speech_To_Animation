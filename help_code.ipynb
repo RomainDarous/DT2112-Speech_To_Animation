{
 "cells": [
  {
   "cell_type": "markdown",
   "metadata": {},
   "source": [
    "# Audio files"
   ]
  },
  {
   "cell_type": "markdown",
   "metadata": {},
   "source": [
    "## Splitting"
   ]
  },
  {
   "cell_type": "code",
   "execution_count": 1,
   "metadata": {},
   "outputs": [],
   "source": [
    "from pydub import AudioSegment\n",
    "import os\n",
    "os.chdir('../code/said_main/data/audio/FaceTalk_Romain_Darous_val/long_files')"
   ]
  },
  {
   "cell_type": "code",
   "execution_count": 2,
   "metadata": {},
   "outputs": [],
   "source": [
    "def split_wav(input_files, output_folder, duration=10000):\n",
    "    # Split the audio file into segments\n",
    "    idx = 1\n",
    "    for input_file in input_files :\n",
    "        # Load the audio file\n",
    "        sound = AudioSegment.from_file(input_file, format = \"wav\", frame_rate = 16_000)\n",
    "        \n",
    "        # Calculate the number of segments\n",
    "        num_segments = len(sound) // duration\n",
    "        \n",
    "        # Create the output folder if it doesn't exist\n",
    "        os.makedirs(output_folder, exist_ok=True)\n",
    "        for i in range(num_segments):\n",
    "            start_time = i * duration\n",
    "            end_time = (i + 1) * duration\n",
    "            segment = sound[start_time:end_time]\n",
    "            segment.export(os.path.join(output_folder, f\"segment_{idx:02}_{i:02}.wav\"), format=\"wav\")\n",
    "    \n",
    "        last = i + 1\n",
    "        segment = sound[last*duration:]\n",
    "        segment.export(os.path.join(output_folder, f\"segment_{idx:02}_{last:02}.wav\"), format=\"wav\")\n",
    "        idx += 1\n",
    "\n",
    "# Example usage\n",
    "input_files = [path for path in os.listdir()]\n",
    "output_folder = \"../\"\n",
    "split_wav(input_files, output_folder)\n"
   ]
  },
  {
   "cell_type": "markdown",
   "metadata": {},
   "source": [
    "## Resampling"
   ]
  },
  {
   "cell_type": "markdown",
   "metadata": {},
   "source": [
    "# Blendshapes"
   ]
  },
  {
   "cell_type": "code",
   "execution_count": 1,
   "metadata": {},
   "outputs": [],
   "source": [
    "import pandas as pd\n",
    "import os\n",
    "from pydub import AudioSegment\n",
    "import os\n",
    "import datetime\n",
    "import wave\n",
    "import contextlib"
   ]
  },
  {
   "cell_type": "code",
   "execution_count": 2,
   "metadata": {},
   "outputs": [],
   "source": [
    "os.chdir('../code/said_main/data')\n"
   ]
  },
  {
   "cell_type": "markdown",
   "metadata": {},
   "source": [
    "# Rename files"
   ]
  },
  {
   "cell_type": "markdown",
   "metadata": {},
   "source": [
    "### CSV"
   ]
  },
  {
   "cell_type": "code",
   "execution_count": 10,
   "metadata": {},
   "outputs": [],
   "source": [
    "\"\"\"blend_path = './blendshape_coeffs/FaceTalk_Romain_Darous_train/raw_segment/'\n",
    "output_folder = './blendshape_coeffs/FaceTalk_Romain_Darous_train/'\n",
    "files = sorted([path for path in os.listdir(blend_path) if path.endswith('.csv')])\n",
    "\n",
    "for i, file in enumerate(files) :\n",
    "    df = pd.read_csv(blend_path + file)\n",
    "    df.to_csv(os.path.join(output_folder, f'sequence{i+1:04}.csv'), index=False)\n",
    "\"\"\""
   ]
  },
  {
   "cell_type": "markdown",
   "metadata": {},
   "source": [
    "### WAV"
   ]
  },
  {
   "cell_type": "code",
   "execution_count": 12,
   "metadata": {},
   "outputs": [],
   "source": [
    "blend_path = './audio/FaceTalk_Romain_Darous_train/'\n",
    "\n",
    "files = sorted([path for path in os.listdir(blend_path) if path.endswith('.wav')])\n",
    "\n",
    "for i, file in enumerate(files) : \n",
    "    os.rename(blend_path + file, blend_path + f'sequence{i+1:04}.wav')"
   ]
  },
  {
   "cell_type": "markdown",
   "metadata": {},
   "source": [
    "# Timecode processing"
   ]
  },
  {
   "cell_type": "code",
   "execution_count": 3,
   "metadata": {},
   "outputs": [],
   "source": [
    "import re\n",
    "import numpy as np\n",
    "\n",
    "def parse_time_string(time_str):\n",
    "    pattern = r'(\\d{2}):(\\d{2}):(\\d{2}):(\\d{2})\\.(\\d{3})'\n",
    "    match = re.match(pattern, time_str)\n",
    "    \n",
    "    if not match:\n",
    "        raise ValueError(\"Time format should be HH:mm:ss:ff.mmm\")\n",
    "    \n",
    "    hours, minutes, seconds, frames, milliseconds = map(int, match.groups())\n",
    "    return hours, minutes, seconds, frames, milliseconds\n",
    "\n",
    "def time_to_milliseconds(hours, minutes, seconds, frames, milliseconds):\n",
    "    frames_per_second = 30\n",
    "    total_milliseconds = (\n",
    "        hours * 3600 * 1000 +\n",
    "        minutes * 60 * 1000 +\n",
    "        seconds * 1000 +\n",
    "        (frames * 1000 / frames_per_second) +\n",
    "        milliseconds\n",
    "    )\n",
    "    return total_milliseconds\n",
    "\n",
    "def diff(time, past_time) :\n",
    "    hours, minutes, seconds, frames, milliseconds = parse_time_string(time)\n",
    "    ms_time = time_to_milliseconds(hours, minutes, seconds, frames, milliseconds)\n",
    "    \n",
    "    hours, minutes, seconds, frames, milliseconds = parse_time_string(past_time)\n",
    "    ms_past_time = time_to_milliseconds(hours, minutes, seconds, frames, milliseconds)\n",
    "    return ms_time - ms_past_time"
   ]
  },
  {
   "cell_type": "markdown",
   "metadata": {},
   "source": [
    "# Splitting files"
   ]
  },
  {
   "cell_type": "code",
   "execution_count": 6,
   "metadata": {},
   "outputs": [],
   "source": [
    "# Version using time_code\n",
    "def split_csv(input_files, output_folder, audio_path, blend_path):\n",
    "    # Split the CSV files into segments based on time code\n",
    "    for input_file in input_files:\n",
    "        # Load the CSV file\n",
    "        df = pd.read_csv(blend_path + input_file)\n",
    "        audio_files = [path for path in os.listdir(audio_path) if path.endswith('.wav') and int(path.split('_')[1]) == int(input_file.split('.')[0][-2:])]\n",
    "        # Create the output folder if it doesn't exist\n",
    "        os.makedirs(output_folder, exist_ok=True)\n",
    "\n",
    "        index = 0\n",
    "        start_index = 0\n",
    "        start_time = df['Timecode'][0]\n",
    "        time = df.iloc[0]['Timecode']\n",
    "        delta = diff(time, start_time)\n",
    "        acc_delta = 0\n",
    "        \n",
    "        for audio in audio_files :\n",
    "        \n",
    "            with contextlib.closing(wave.open(audio_path + audio, 'r')) as wf:\n",
    "                frames = wf.getnframes()\n",
    "                rate = wf.getframerate()\n",
    "                duration = frames / float(rate)\n",
    "\n",
    "            seq = int(audio.split('_')[1])\n",
    "            sub_seq = int(audio.split('_')[2].split('.')[0])\n",
    "\n",
    "            if audio == audio_files[-1] :\n",
    "                # Write the last segment to a CSV file\n",
    "                segment_df = pd.DataFrame(df.iloc[start_index:]).drop(df.columns[:2], axis=1)\n",
    "                segment_df.to_csv(os.path.join(output_folder, f\"segment_{seq:02}_{sub_seq:02}.csv\"), index=False)\n",
    "                break\n",
    "            \n",
    "\n",
    "            # Gathering the subset og blendshape\n",
    "            while delta < duration*1000 and index < len(df) - 1:\n",
    "                index += 1\n",
    "                time = df.iloc[index]['Timecode']\n",
    "                delta = diff(time, start_time)\n",
    "            \n",
    "            acc_delta += delta - duration*1000\n",
    "            # Storing the subset of blendshapes\n",
    "            if acc_delta < 22:\n",
    "                segment_df = pd.DataFrame(df.iloc[start_index:index + 1]).drop(df.columns[:2], axis=1)\n",
    "            else :\n",
    "                segment_df = pd.DataFrame(df.iloc[start_index:index]).drop(df.columns[:2], axis=1)\n",
    "                index -= 1\n",
    "                acc_delta = 0\n",
    "\n",
    "            # Write the last segment to a CSV file\n",
    "            segment_df.to_csv(os.path.join(output_folder, f\"segment_{seq:02}_{sub_seq:02}.csv\"), index=False)\n",
    "\n",
    "            # Resetting parameters\n",
    "            start_index = index\n",
    "            time = df.iloc[index]['Timecode']\n",
    "            start_time = time\n",
    "            delta = 0\n",
    "\n",
    "\n",
    "            \n",
    "# Example usage\n",
    "audio_path = './audio/FaceTalk_Romain_Darous_val/'\n",
    "blend_path = './blendshape_coeffs/FaceTalk_Romain_Darous_val/long_files_old/'\n",
    "input_files = [path for path in os.listdir(blend_path) if path.endswith('.csv')]\n",
    "output_folder = \"./blendshape_coeffs/FaceTalk_Romain_Darous_val/\"\n",
    "split_csv(input_files, output_folder, audio_path, blend_path)\n"
   ]
  },
  {
   "cell_type": "markdown",
   "metadata": {},
   "source": [
    "## Former splitting method"
   ]
  },
  {
   "cell_type": "code",
   "execution_count": null,
   "metadata": {},
   "outputs": [],
   "source": [
    "# Nice version with frame counting, but still some delay (small but it's there)\n",
    "def split_csv(input_files, output_folder):\n",
    "    # Split the CSV files into segments based on time code\n",
    "    idx = 1\n",
    "    for input_file in input_files:\n",
    "        # Load the CSV file\n",
    "        df = pd.read_csv(input_file)\n",
    "\n",
    "        \n",
    "        # Create the output folder if it doesn't exist\n",
    "        os.makedirs(output_folder, exist_ok=True)\n",
    "        \n",
    "        sec_ref = int(df['Timecode'][0].split(':')[-1].split('.')[0])\n",
    "        total_sec = 0\n",
    "        start_index = 0\n",
    "\n",
    "        for index, row in df.iterrows():\n",
    "            # Retrieve the time code from the row\n",
    "            time_code = row['Timecode']  # Assuming the time code column is named 'Time'\n",
    "            \n",
    "            # Extract the seconds value\n",
    "            seconds = int(time_code.split(':')[-1].split('.')[0])\n",
    "\n",
    "            if seconds ==  sec_ref and index != start_index : total_sec += 1\n",
    "            elif start_index > 0 :\n",
    "                prev_time_code = df.iloc[index - 1]['Timecode']\n",
    "                prev_seconds = int(prev_time_code.split(':')[-1].split('.')[0])\n",
    "                if prev_seconds < sec_ref and seconds > sec_ref : total_sec += 1\n",
    "            \n",
    "            if total_sec == 10 :\n",
    "                # Write the last segment to a CSV file\n",
    "                segment_df = pd.DataFrame(df.iloc[start_index:index]).drop(df.columns[:2], axis=1)\n",
    "                segment_df.to_csv(os.path.join(output_folder, f\"segment_{idx:04}.csv\"), index=False)\n",
    "                idx += 1\n",
    "                total_sec = 0\n",
    "                start_index = index\n",
    "\n",
    "# Example usage\n",
    "input_files = [path for path in os.listdir() if path.endswith('.csv')]\n",
    "output_folder = \"../\"\n",
    "split_csv(input_files, output_folder)\n"
   ]
  },
  {
   "cell_type": "code",
   "execution_count": null,
   "metadata": {},
   "outputs": [],
   "source": []
  }
 ],
 "metadata": {
  "kernelspec": {
   "display_name": "Python 3",
   "language": "python",
   "name": "python3"
  },
  "language_info": {
   "codemirror_mode": {
    "name": "ipython",
    "version": 3
   },
   "file_extension": ".py",
   "mimetype": "text/x-python",
   "name": "python",
   "nbconvert_exporter": "python",
   "pygments_lexer": "ipython3",
   "version": "3.11.4"
  }
 },
 "nbformat": 4,
 "nbformat_minor": 2
}
