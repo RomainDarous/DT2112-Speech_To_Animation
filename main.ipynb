{
 "cells": [
  {
   "cell_type": "markdown",
   "metadata": {
    "id": "uon7oJe-VBpu"
   },
   "source": [
    "# DT2119 - Speech-to-Animation project\n",
    "Berkan Yapici, Romain Darous.\n",
    "<br><br>\n",
    "The goal of the project is to generate blendshape features from an audio input to animate MetaHumans of the software ``Unreal Engine``. The model trained here is adapted from the research paper _SAiD: Speech-driven Blendshape Facial Animation with Diffusion_, Inkyu Park and Jaewoong Cho, 2023.\n",
    "<br><br>\n",
    "**Source code** :\n",
    "- https://github.com/yunik1004/SAiD\n",
    "                                                    "
   ]
  },
  {
   "cell_type": "markdown",
   "metadata": {
    "id": "nFF0JAZ9VBpv"
   },
   "source": [
    "## 0. Connecting to Google Drive and importing relevant modules"
   ]
  },
  {
   "cell_type": "code",
   "execution_count": 1,
   "metadata": {
    "colab": {
     "base_uri": "https://localhost:8080/",
     "height": 35
    },
    "id": "D6-imgPhVBpw",
    "outputId": "9160ad01-3c26-4836-8839-7b120cc1f0e2"
   },
   "outputs": [
    {
     "data": {
      "text/plain": [
       "'from google.colab import drive\\ndrive.mount(\"/content/gdrive\")'"
      ]
     },
     "execution_count": 1,
     "metadata": {},
     "output_type": "execute_result"
    }
   ],
   "source": [
    "\"\"\"from google.colab import drive\n",
    "drive.mount(\"/content/gdrive\")\"\"\""
   ]
  },
  {
   "cell_type": "code",
   "execution_count": 2,
   "metadata": {
    "colab": {
     "base_uri": "https://localhost:8080/",
     "height": 52
    },
    "id": "09UR5EJwVBpw",
    "outputId": "15bddb26-8289-430e-8b22-ee5df8f92f3e"
   },
   "outputs": [
    {
     "data": {
      "text/plain": [
       "\"import os\\nos.chdir('/content/gdrive/MyDrive/KTH/B_Semestre_2/A_Cours/DT2119_Speach_Speaker_Recognition/Project/code/said_main')\""
      ]
     },
     "execution_count": 2,
     "metadata": {},
     "output_type": "execute_result"
    }
   ],
   "source": [
    "\"\"\"import os\n",
    "os.chdir('/content/gdrive/MyDrive/KTH/B_Semestre_2/A_Cours/DT2119_Speach_Speaker_Recognition/Project/code/said_main')\"\"\""
   ]
  },
  {
   "cell_type": "markdown",
   "metadata": {
    "id": "KP-ojjaqIT7u"
   },
   "source": [
    "### 0.1. Uploading the code on the Google Cloud machine"
   ]
  },
  {
   "cell_type": "code",
   "execution_count": 3,
   "metadata": {
    "colab": {
     "base_uri": "https://localhost:8080/",
     "height": 174
    },
    "id": "sKyTzzcIIxKF",
    "outputId": "6b2cef72-b99c-45ae-a430-9e1cec452c9f"
   },
   "outputs": [
    {
     "data": {
      "text/plain": [
       "'import os\\nimport shutil\\n\\n# This function is used to update the content of a specific folder (so removing its content first)\\ndef delete_contents(folder_path):\\n    # Check if the folder exists\\n    if not os.path.exists(folder_path):\\n        print(f\"The folder {folder_path} does not exist.\")\\n        return\\n\\n    # Iterate through the folder\\'s contents\\n    for item in os.listdir(folder_path):\\n        item_path = os.path.join(folder_path, item)\\n        # Check if the item is a directory\\n        if os.path.isdir(item_path):\\n            # Remove the directory and all its contents\\n            shutil.rmtree(item_path)\\n        else:\\n            # Remove the file\\n            os.remove(item_path)\\n\\n    print(f\"All contents of {folder_path} have been deleted.\")\\n\\n# Usage\\nfolder_path = \\'/content/said_main/data\\'  # Replace with your f\\ndelete_contents(folder_path)'"
      ]
     },
     "execution_count": 3,
     "metadata": {},
     "output_type": "execute_result"
    }
   ],
   "source": [
    "\"\"\"import os\n",
    "import shutil\n",
    "\n",
    "# This function is used to update the content of a specific folder (so removing its content first)\n",
    "def delete_contents(folder_path):\n",
    "    # Check if the folder exists\n",
    "    if not os.path.exists(folder_path):\n",
    "        print(f\"The folder {folder_path} does not exist.\")\n",
    "        return\n",
    "\n",
    "    # Iterate through the folder's contents\n",
    "    for item in os.listdir(folder_path):\n",
    "        item_path = os.path.join(folder_path, item)\n",
    "        # Check if the item is a directory\n",
    "        if os.path.isdir(item_path):\n",
    "            # Remove the directory and all its contents\n",
    "            shutil.rmtree(item_path)\n",
    "        else:\n",
    "            # Remove the file\n",
    "            os.remove(item_path)\n",
    "\n",
    "    print(f\"All contents of {folder_path} have been deleted.\")\n",
    "\n",
    "# Usage\n",
    "folder_path = '/content/said_main/data'  # Replace with your f\n",
    "delete_contents(folder_path)\"\"\""
   ]
  },
  {
   "cell_type": "code",
   "execution_count": 4,
   "metadata": {
    "colab": {
     "base_uri": "https://localhost:8080/",
     "height": 104
    },
    "id": "cdYW7G2qTtxt",
    "outputId": "d8ea9882-c77b-481b-d174-a2bb7621d8be"
   },
   "outputs": [
    {
     "data": {
      "text/plain": [
       "\"# Extracting data from a zip file\\nimport zipfile\\nzip_file_path = '/content/zip_files/data.zip'\\nextract_to_directory = './said_main'\\n\\nos.makedirs(extract_to_directory, exist_ok=True)\\n\\n# Open the ZIP file\\nwith zipfile.ZipFile(zip_file_path, 'r') as zip_ref:\\n    # Extract all the contents into the specified directory\\n    zip_ref.extractall(extract_to_directory)\\n\\nprint(f'Contents of {zip_file_path} have been extracted to {extract_to_directory}')\\n\""
      ]
     },
     "execution_count": 4,
     "metadata": {},
     "output_type": "execute_result"
    }
   ],
   "source": [
    "\"\"\"# Extracting data from a zip file\n",
    "import zipfile\n",
    "zip_file_path = '/content/zip_files/data.zip'\n",
    "extract_to_directory = './said_main'\n",
    "\n",
    "os.makedirs(extract_to_directory, exist_ok=True)\n",
    "\n",
    "# Open the ZIP file\n",
    "with zipfile.ZipFile(zip_file_path, 'r') as zip_ref:\n",
    "    # Extract all the contents into the specified directory\n",
    "    zip_ref.extractall(extract_to_directory)\n",
    "\n",
    "print(f'Contents of {zip_file_path} have been extracted to {extract_to_directory}')\n",
    "\"\"\""
   ]
  },
  {
   "cell_type": "markdown",
   "metadata": {
    "id": "SD7IlL65WZkF"
   },
   "source": [
    "### 0.2. Cleaning the test set if required"
   ]
  },
  {
   "cell_type": "code",
   "execution_count": 5,
   "metadata": {
    "colab": {
     "base_uri": "https://localhost:8080/",
     "height": 35
    },
    "id": "eclSbypi44it",
    "outputId": "75c310ad-a4e5-4ef2-ab69-f4a4a7f57612"
   },
   "outputs": [
    {
     "data": {
      "text/plain": [
       "'!rm /content/said_main/output/SAiD/*'"
      ]
     },
     "execution_count": 5,
     "metadata": {},
     "output_type": "execute_result"
    }
   ],
   "source": [
    "\"\"\"!rm /content/said_main/output/SAiD/*\"\"\""
   ]
  },
  {
   "cell_type": "code",
   "execution_count": 6,
   "metadata": {
    "colab": {
     "base_uri": "https://localhost:8080/",
     "height": 35
    },
    "id": "ytxmaXiyBGM5",
    "outputId": "f260bf01-458d-4d52-996a-56177145c926"
   },
   "outputs": [
    {
     "data": {
      "text/plain": [
       "'!rm /content/said_main/data/blendshape_coeffs/FaceTalk_Romain_Darous_test/*'"
      ]
     },
     "execution_count": 6,
     "metadata": {},
     "output_type": "execute_result"
    }
   ],
   "source": [
    "\"\"\"!rm /content/said_main/data/blendshape_coeffs/FaceTalk_Romain_Darous_test/*\"\"\""
   ]
  },
  {
   "cell_type": "markdown",
   "metadata": {
    "id": "wJaQ9kIJIgrx"
   },
   "source": [
    "### 0.3. Configuration of the working environment"
   ]
  },
  {
   "cell_type": "code",
   "execution_count": 7,
   "metadata": {
    "colab": {
     "base_uri": "https://localhost:8080/",
     "height": 35
    },
    "id": "tLzrJdd39_Zu",
    "outputId": "8fa4b2a9-d7ce-4a34-9aa0-4ad27d533347"
   },
   "outputs": [
    {
     "data": {
      "text/plain": [
       "'/home/jovyan/DT2119-Speech_To_Animation/said_main'"
      ]
     },
     "execution_count": 7,
     "metadata": {},
     "output_type": "execute_result"
    }
   ],
   "source": [
    "import os\n",
    "os.chdir(\"/home/jovyan/DT2119-Speech_To_Animation/said_main\")\n",
    "os.getcwd()"
   ]
  },
  {
   "cell_type": "code",
   "execution_count": null,
   "metadata": {
    "id": "pVw6x4TrXAIC"
   },
   "outputs": [],
   "source": [
    "# Installing required modules\n",
    "!pip install -q transformers\n",
    "!pip install -q accelerate\n",
    "!pip install -q diffusers\n",
    "!pip install -q trimesh\n",
    "!pip install -q pytorch_fid\n",
    "!pip install -q einops\n",
    "!pip install -q qpsolvers"
   ]
  },
  {
   "cell_type": "code",
   "execution_count": null,
   "metadata": {},
   "outputs": [],
   "source": [
    "!pip install -q librosa\n",
    "!pip install -q cvxopt"
   ]
  },
  {
   "cell_type": "markdown",
   "metadata": {
    "id": "aObNA2csWQyW"
   },
   "source": [
    "# 1. Training the model"
   ]
  },
  {
   "cell_type": "code",
   "execution_count": null,
   "metadata": {
    "colab": {
     "base_uri": "https://localhost:8080/"
    },
    "id": "SogP0_1z2Yi3",
    "outputId": "caeda8ec-4ae2-4439-9645-73f060312fce"
   },
   "outputs": [],
   "source": [
    "!python script/train.py"
   ]
  },
  {
   "cell_type": "markdown",
   "metadata": {
    "id": "QZrfN7vwWSvz"
   },
   "source": [
    "# 2. Running the model on test data"
   ]
  },
  {
   "cell_type": "code",
   "execution_count": null,
   "metadata": {
    "colab": {
     "base_uri": "https://localhost:8080/"
    },
    "id": "_ij-c8feLBxq",
    "outputId": "fc459278-aabd-4824-9eac-8f5ee2840052"
   },
   "outputs": [],
   "source": [
    "!python script/test_inference.py"
   ]
  },
  {
   "cell_type": "markdown",
   "metadata": {
    "id": "XClDQTHkWh1X"
   },
   "source": [
    "# 3. Building the animations\n",
    "Animations are built from the ``.csv`` files of the blendshapes on ``Unreal Engine``. Here are video examples of the results we got :"
   ]
  }
 ],
 "metadata": {
  "accelerator": "GPU",
  "colab": {
   "gpuType": "T4",
   "provenance": []
  },
  "kernelspec": {
   "display_name": "Python 3 (ipykernel)",
   "language": "python",
   "name": "python3"
  },
  "language_info": {
   "codemirror_mode": {
    "name": "ipython",
    "version": 3
   },
   "file_extension": ".py",
   "mimetype": "text/x-python",
   "name": "python",
   "nbconvert_exporter": "python",
   "pygments_lexer": "ipython3",
   "version": "3.10.13"
  }
 },
 "nbformat": 4,
 "nbformat_minor": 4
}
